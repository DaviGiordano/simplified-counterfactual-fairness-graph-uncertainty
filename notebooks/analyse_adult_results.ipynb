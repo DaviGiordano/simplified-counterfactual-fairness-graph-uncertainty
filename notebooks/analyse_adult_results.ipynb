{
 "cells": [
  {
   "cell_type": "code",
   "execution_count": null,
   "id": "9e354289",
   "metadata": {},
   "outputs": [],
   "source": [
    "import sys\n",
    "from pathlib import Path\n",
    "\n",
    "parent_dir = str(Path().absolute().parent)\n",
    "if parent_dir not in sys.path:\n",
    "    sys.path.append(parent_dir)\n",
    "\n",
    "%load_ext autoreload\n",
    "%autoreload 2"
   ]
  },
  {
   "cell_type": "code",
   "execution_count": null,
   "id": "2ed18121",
   "metadata": {},
   "outputs": [],
   "source": [
    "import pandas as pd\n",
    "import numpy as np\n",
    "import seaborn as sns\n",
    "import matplotlib.pyplot as plt\n",
    "from pathlib import Path\n",
    "import seaborn as sns\n",
    "import matplotlib.pyplot as plt\n",
    "import pickle\n",
    "\n",
    "# sns.set_context(\"paper\")\n",
    "sns.set_theme(\n",
    "    style='ticks', \n",
    "    rc={\n",
    "    \"text.usetex\": False,\n",
    "    \"font.family\": \"serif\",\n",
    "    \"axes.grid\": True,\n",
    "    \"lines.linewidth\": 0.8,\n",
    "    'axes.linewidth':0.8,\n",
    "    'grid.linewidth': 0.8,\n",
    "    'xtick.major.width': 0.8,\n",
    "    'ytick.major.width': 0.8,\n",
    "    'xtick.major.size': 3.0,\n",
    "    'ytick.major.size': 3.0,\n",
    "    \"axes.spines.top\": True,\n",
    "    \"axes.spines.right\": True,\n",
    "    \"axes.edgecolor\": \"black\"\n",
    "    },\n",
    "    palette='deep',\n",
    "    )\n",
    "sns.set_palette('Set2')\n"
   ]
  },
  {
   "cell_type": "code",
   "execution_count": null,
   "id": "2c735cab",
   "metadata": {},
   "outputs": [],
   "source": [
    "from src.utils import find_root\n",
    "\n",
    "\n",
    "BASE_PATH = find_root()\n",
    "DATASET_TAG = 'adult'\n",
    "SENSITIVE_FEAT = 'sex'\n",
    "knows = ['low', 'med']\n",
    "clfs = ['GB_no_sensitive', 'RF_no_sensitive', 'LR_no_sensitive']\n",
    "\n",
    "interventions = ['Female_to_Male', 'Male_to_Female']\n",
    "cf_metrics = ['negative_to_positive_switch_rate', 'positive_to_negative_switch_rate']\n",
    "metrics = [f'{i}.{m}' for i in interventions for m in cf_metrics]"
   ]
  },
  {
   "cell_type": "markdown",
   "id": "7b5ff769",
   "metadata": {},
   "source": [
    "## 1. Graph uncertainty"
   ]
  },
  {
   "cell_type": "code",
   "execution_count": null,
   "id": "5c75a59c",
   "metadata": {},
   "outputs": [],
   "source": [
    "from src.causality.causal_world import  inspect_graph_uncertainty\n",
    "cws_by_know = {}\n",
    "for know in knows:\n",
    "    fpath = BASE_PATH / 'output' / DATASET_TAG / know / 'causal_worlds.pkl'\n",
    "    with open(fpath, 'rb') as f:\n",
    "        cws_by_know[know] = pickle.load(f)"
   ]
  },
  {
   "cell_type": "code",
   "execution_count": null,
   "id": "e429a3ff",
   "metadata": {},
   "outputs": [],
   "source": [
    "len(cws_by_know['low'])"
   ]
  },
  {
   "cell_type": "code",
   "execution_count": null,
   "id": "13c3b4c1",
   "metadata": {},
   "outputs": [],
   "source": [
    "# low knowledge\n",
    "cws = cws_by_know['low']\n",
    "print(inspect_graph_uncertainty(cws, SENSITIVE_FEAT))"
   ]
  },
  {
   "cell_type": "code",
   "execution_count": null,
   "id": "05c87d22",
   "metadata": {},
   "outputs": [],
   "source": [
    "# medium knowledge\n",
    "cws = cws_by_know['med']\n",
    "print(inspect_graph_uncertainty(cws, SENSITIVE_FEAT))"
   ]
  },
  {
   "cell_type": "markdown",
   "id": "2ccde659",
   "metadata": {},
   "source": [
    "## 2. Feature variance"
   ]
  },
  {
   "cell_type": "code",
   "execution_count": null,
   "id": "c70eac86",
   "metadata": {},
   "outputs": [],
   "source": [
    "feat_var_by_know = {}\n",
    "for know in knows:\n",
    "    fpath = BASE_PATH / 'output' / DATASET_TAG / know / 'counterfactuals_summary' / 'feat_var_by_individual.csv'\n",
    "    feat_var_by_know[know] = pd.read_csv(fpath)"
   ]
  },
  {
   "cell_type": "code",
   "execution_count": null,
   "id": "cb9c72a6",
   "metadata": {},
   "outputs": [],
   "source": [
    "print('Feature var, low knowledge:')\n",
    "feat_var_by_know['low']"
   ]
  },
  {
   "cell_type": "code",
   "execution_count": null,
   "id": "17ed9ef0",
   "metadata": {},
   "outputs": [],
   "source": [
    "print('Feature var, med knowledge:')\n",
    "feat_var_by_know['med']"
   ]
  },
  {
   "cell_type": "markdown",
   "id": "42cf6ee4",
   "metadata": {},
   "source": [
    "## 3. Score variance"
   ]
  },
  {
   "cell_type": "code",
   "execution_count": null,
   "id": "34ad8f49",
   "metadata": {},
   "outputs": [],
   "source": [
    "from notebooks.notebook_utils import load_score_variance_data\n",
    "\n",
    "\n",
    "load_score_variance_data(BASE_PATH, DATASET_TAG, knows, clfs)"
   ]
  },
  {
   "cell_type": "code",
   "execution_count": null,
   "id": "6422fb4f",
   "metadata": {},
   "outputs": [],
   "source": [
    "from notebooks.notebook_utils import load_score_variance_data\n",
    "from src.plot.bar_charts import plot_score_variance\n",
    "\n",
    "\n",
    "df_score_var = load_score_variance_data(BASE_PATH, DATASET_TAG, knows, clfs)\n",
    "g = plot_score_variance(df_score_var, './adult_charts/adult_score_variance.pdf',)\n"
   ]
  },
  {
   "cell_type": "markdown",
   "id": "9b40728d",
   "metadata": {},
   "source": [
    "## 4. CF metrics variance"
   ]
  },
  {
   "cell_type": "code",
   "execution_count": null,
   "id": "be42720f",
   "metadata": {},
   "outputs": [],
   "source": [
    "from notebooks.notebook_utils import load_and_tidy_fairness_metrics\n",
    "from src.plot.bar_charts import plot_counterfactual_metrics\n",
    "\n",
    "\n",
    "df = load_and_tidy_fairness_metrics(BASE_PATH, DATASET_TAG, knows, clfs)\n",
    "g = plot_counterfactual_metrics(df, interventions, 'adult_charts/adult_cf.pdf')\n",
    "plt.show()\n"
   ]
  },
  {
   "cell_type": "code",
   "execution_count": null,
   "id": "ed962527",
   "metadata": {},
   "outputs": [],
   "source": [
    "summary_df = (\n",
    "    df.groupby(['Knowledge', 'intervention', 'metric', 'Classifier'])['Rate']\n",
    "      .agg(mean_rate='mean',\n",
    "           ci_low=lambda s: np.percentile(s, 2.5),   # 2.5 th percentile\n",
    "           ci_high=lambda s: np.percentile(s, 97.5)) # 97.5 th percentile\n",
    "      .reset_index()\n",
    ")\n",
    "summary_df.round(4).to_clipboard(sep=';')"
   ]
  },
  {
   "cell_type": "markdown",
   "id": "398ab57d",
   "metadata": {},
   "source": [
    "## 5. Counterfactuals quality"
   ]
  },
  {
   "cell_type": "code",
   "execution_count": null,
   "id": "0f45fb4b",
   "metadata": {},
   "outputs": [],
   "source": [
    "cf_quality_by_know = {}\n",
    "for know in knows:\n",
    "    fpath = BASE_PATH / 'output' / DATASET_TAG / know / 'counterfactuals_summary' / 'counterfactuals_quality.csv'\n",
    "    df = pd.read_csv(fpath)\n",
    "    cols = [col for col in df.columns \n",
    "                            if col.endswith('coverage') or col.endswith('density')]\n",
    "    df = df[cols]\n",
    "    df['avg'] = df.T.mean()\n",
    "    df.sort_values(by='avg', ascending=False, inplace=True)\n",
    "    cf_quality_by_know[know] = df"
   ]
  },
  {
   "cell_type": "code",
   "execution_count": null,
   "id": "7dde24b3",
   "metadata": {},
   "outputs": [],
   "source": [
    "cf_quality_by_know['low'].head()"
   ]
  },
  {
   "cell_type": "code",
   "execution_count": null,
   "id": "416f2b42",
   "metadata": {},
   "outputs": [],
   "source": [
    "cf_quality_by_know['med'].head()"
   ]
  }
 ],
 "metadata": {
  "kernelspec": {
   "display_name": ".venv (3.10.11)",
   "language": "python",
   "name": "python3"
  },
  "language_info": {
   "codemirror_mode": {
    "name": "ipython",
    "version": 3
   },
   "file_extension": ".py",
   "mimetype": "text/x-python",
   "name": "python",
   "nbconvert_exporter": "python",
   "pygments_lexer": "ipython3",
   "version": "3.10.11"
  }
 },
 "nbformat": 4,
 "nbformat_minor": 5
}
